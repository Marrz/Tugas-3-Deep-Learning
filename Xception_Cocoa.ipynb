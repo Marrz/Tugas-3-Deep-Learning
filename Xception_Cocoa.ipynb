{
  "nbformat": 4,
  "nbformat_minor": 0,
  "metadata": {
    "colab": {
      "name": "Xception Cocoa.ipynb",
      "provenance": [],
      "collapsed_sections": [],
      "toc_visible": true
    },
    "kernelspec": {
      "name": "python3",
      "display_name": "Python 3"
    },
    "accelerator": "GPU"
  },
  "cells": [
    {
      "cell_type": "code",
      "metadata": {
        "id": "QPYSz_cgP7KK",
        "colab_type": "code",
        "outputId": "9c57445e-8d59-4fbb-f1e2-44c3d3274f19",
        "colab": {
          "base_uri": "https://localhost:8080/",
          "height": 80
        }
      },
      "source": [
        "import numpy as np\n",
        "import pickle\n",
        "import cv2\n",
        "from os import listdir\n",
        "from sklearn.preprocessing import LabelBinarizer\n",
        "from keras.models import Sequential\n",
        "from keras.layers.normalization import BatchNormalization\n",
        "from keras.layers.convolutional import Conv2D\n",
        "from keras.layers.convolutional import MaxPooling2D\n",
        "from keras.layers.core import Activation, Flatten, Dropout, Dense\n",
        "from keras import backend as K\n",
        "from keras.preprocessing.image import ImageDataGenerator\n",
        "from keras.optimizers import Adam\n",
        "from keras.preprocessing import image\n",
        "from keras.preprocessing.image import img_to_array\n",
        "from sklearn.preprocessing import MultiLabelBinarizer\n",
        "from sklearn.model_selection import train_test_split\n",
        "import matplotlib.pyplot as plt\n",
        "\n",
        "import os\n",
        "from keras import applications\n",
        "from tensorflow.python.client import device_lib\n",
        "from keras.callbacks import ModelCheckpoint, LearningRateScheduler, TensorBoard, EarlyStopping\n",
        "from keras.layers import GlobalAveragePooling2D\n",
        "from keras.models import Model"
      ],
      "execution_count": 0,
      "outputs": [
        {
          "output_type": "stream",
          "text": [
            "Using TensorFlow backend.\n"
          ],
          "name": "stderr"
        },
        {
          "output_type": "display_data",
          "data": {
            "text/html": [
              "<p style=\"color: red;\">\n",
              "The default version of TensorFlow in Colab will soon switch to TensorFlow 2.x.<br>\n",
              "We recommend you <a href=\"https://www.tensorflow.org/guide/migrate\" target=\"_blank\">upgrade</a> now \n",
              "or ensure your notebook will continue to use TensorFlow 1.x via the <code>%tensorflow_version 1.x</code> magic:\n",
              "<a href=\"https://colab.research.google.com/notebooks/tensorflow_version.ipynb\" target=\"_blank\">more info</a>.</p>\n"
            ],
            "text/plain": [
              "<IPython.core.display.HTML object>"
            ]
          },
          "metadata": {
            "tags": []
          }
        }
      ]
    },
    {
      "cell_type": "code",
      "metadata": {
        "id": "XA2ssL-zQK3c",
        "colab_type": "code",
        "outputId": "58f49489-d2e2-4ba9-c8df-01d0cccad2b3",
        "colab": {
          "base_uri": "https://localhost:8080/",
          "height": 122
        }
      },
      "source": [
        "from google.colab import drive\n",
        "drive.mount('/content/drive')"
      ],
      "execution_count": 0,
      "outputs": [
        {
          "output_type": "stream",
          "text": [
            "Go to this URL in a browser: https://accounts.google.com/o/oauth2/auth?client_id=947318989803-6bn6qk8qdgf4n4g3pfee6491hc0brc4i.apps.googleusercontent.com&redirect_uri=urn%3aietf%3awg%3aoauth%3a2.0%3aoob&response_type=code&scope=email%20https%3a%2f%2fwww.googleapis.com%2fauth%2fdocs.test%20https%3a%2f%2fwww.googleapis.com%2fauth%2fdrive%20https%3a%2f%2fwww.googleapis.com%2fauth%2fdrive.photos.readonly%20https%3a%2f%2fwww.googleapis.com%2fauth%2fpeopleapi.readonly\n",
            "\n",
            "Enter your authorization code:\n",
            "··········\n",
            "Mounted at /content/drive\n"
          ],
          "name": "stdout"
        }
      ]
    },
    {
      "cell_type": "code",
      "metadata": {
        "id": "3Xj4B3oXQM1s",
        "colab_type": "code",
        "colab": {}
      },
      "source": [
        "EPOCHS = 100\n",
        "INIT_LR = 1e-3\n",
        "BS = 32\n",
        "default_image_size = tuple((299, 299))\n",
        "image_size = 0\n",
        "directory_root = '/content/drive/My Drive/Colab Notebooks/Tugas 3 Deep Learning/Dataset Coklat'\n",
        "height, width = 299, 299\n",
        "depth=3\n",
        "epochs, batch_size = 50, 32"
      ],
      "execution_count": 0,
      "outputs": []
    },
    {
      "cell_type": "code",
      "metadata": {
        "id": "qBoBg8zLjuoI",
        "colab_type": "code",
        "colab": {}
      },
      "source": [
        "def create_folder(directory):\n",
        "    try:\n",
        "        if not os.path.exists(directory):\n",
        "            os.makedirs(directory)\n",
        "    except OSError:\n",
        "        print(\"ERROR: Creating Directory. -> \" + directory)\n",
        "        sys.exit(0)"
      ],
      "execution_count": 0,
      "outputs": []
    },
    {
      "cell_type": "code",
      "metadata": {
        "id": "RvqS1Lg9jeQK",
        "colab_type": "code",
        "colab": {}
      },
      "source": [
        "create_folder('/content/weights')"
      ],
      "execution_count": 0,
      "outputs": []
    },
    {
      "cell_type": "code",
      "metadata": {
        "id": "55DyOVOPQSYd",
        "colab_type": "code",
        "colab": {}
      },
      "source": [
        "def convert_image_to_array(image_dir):\n",
        "    try:\n",
        "        image = cv2.imread(image_dir)\n",
        "        if image is not None :\n",
        "            image = cv2.resize(image, default_image_size)   \n",
        "            return img_to_array(image)\n",
        "        else :\n",
        "            return np.array([])\n",
        "    except Exception as e:\n",
        "        print(f\"Error : {e}\")\n",
        "        return None"
      ],
      "execution_count": 0,
      "outputs": []
    },
    {
      "cell_type": "code",
      "metadata": {
        "id": "zM_lX_5EQnw1",
        "colab_type": "code",
        "outputId": "fffc0707-75b0-4ca7-d6e9-3a9a9559516b",
        "colab": {
          "base_uri": "https://localhost:8080/",
          "height": 153
        }
      },
      "source": [
        "image_list, label_list = [], []\n",
        "try:\n",
        "    print(\"[INFO] Loading images ...\")\n",
        "    root_dir = listdir(directory_root)\n",
        "    for directory in root_dir :\n",
        "        # remove .DS_Store from list\n",
        "        if directory == \".DS_Store\" :\n",
        "            root_dir.remove(directory)\n",
        "\n",
        "    for plant_folder in root_dir :\n",
        "        plant_disease_folder_list = listdir(f\"{directory_root}/{plant_folder}\")\n",
        "        \n",
        "        for disease_folder in plant_disease_folder_list :\n",
        "            # remove .DS_Store from list\n",
        "            if disease_folder == \".DS_Store\" :\n",
        "                plant_disease_folder_list.remove(disease_folder)\n",
        "\n",
        "        for plant_disease_folder in plant_disease_folder_list:\n",
        "            print(f\"[INFO] Processing {plant_disease_folder} ...\")\n",
        "            plant_disease_image_list = listdir(f\"{directory_root}/{plant_folder}/{plant_disease_folder}\")\n",
        "                \n",
        "            for single_plant_disease_image in plant_disease_image_list :\n",
        "                if single_plant_disease_image == \".DS_Store\" :\n",
        "                    plant_disease_image_list.remove(single_plant_disease_image)\n",
        "\n",
        "            for image in plant_disease_image_list[:200]:\n",
        "                image_directory = f\"{directory_root}/{plant_folder}/{plant_disease_folder}/{image}\"\n",
        "                if image_directory.endswith(\".jpg\") == True or image_directory.endswith(\".JPG\") == True:\n",
        "                    image_list.append(convert_image_to_array(image_directory))\n",
        "                    label_list.append(plant_disease_folder)\n",
        "    print(\"[INFO] Image loading completed\")  \n",
        "except Exception as e:\n",
        "    print(f\"Error : {e}\")"
      ],
      "execution_count": 0,
      "outputs": [
        {
          "output_type": "stream",
          "text": [
            "[INFO] Loading images ...\n",
            "[INFO] Processing Moldy_Cocoa ...\n",
            "[INFO] Processing Broken_Beans_Cocoa ...\n",
            "[INFO] Processing Fermented_Cocoa ...\n",
            "[INFO] Processing Unfermented_Cocoa ...\n",
            "[INFO] Processing Bean_Fraction_Cocoa ...\n",
            "[INFO] Processing Whole_Beans_Cocoa ...\n",
            "[INFO] Image loading completed\n"
          ],
          "name": "stdout"
        }
      ]
    },
    {
      "cell_type": "code",
      "metadata": {
        "id": "_81dCA80QpIN",
        "colab_type": "code",
        "outputId": "0dad29c2-fd29-47dd-c8ea-7bff27211796",
        "colab": {
          "base_uri": "https://localhost:8080/",
          "height": 34
        }
      },
      "source": [
        "image_size = len(image_list)\n",
        "image_size"
      ],
      "execution_count": 0,
      "outputs": [
        {
          "output_type": "execute_result",
          "data": {
            "text/plain": [
              "614"
            ]
          },
          "metadata": {
            "tags": []
          },
          "execution_count": 8
        }
      ]
    },
    {
      "cell_type": "code",
      "metadata": {
        "id": "eIMD0khLQqGm",
        "colab_type": "code",
        "colab": {}
      },
      "source": [
        "label_binarizer = LabelBinarizer()\n",
        "image_labels = label_binarizer.fit_transform(label_list)\n",
        "pickle.dump(label_binarizer,open('label_transform.pkl', 'wb'))\n",
        "n_classes = len(label_binarizer.classes_)"
      ],
      "execution_count": 0,
      "outputs": []
    },
    {
      "cell_type": "code",
      "metadata": {
        "id": "cCcOgv2TQrQ2",
        "colab_type": "code",
        "outputId": "4bc7d289-3fd6-4a9e-b317-de1069736aea",
        "colab": {
          "base_uri": "https://localhost:8080/",
          "height": 51
        }
      },
      "source": [
        "print(label_binarizer.classes_)"
      ],
      "execution_count": 0,
      "outputs": [
        {
          "output_type": "stream",
          "text": [
            "['Bean_Fraction_Cocoa' 'Broken_Beans_Cocoa' 'Fermented_Cocoa'\n",
            " 'Moldy_Cocoa' 'Unfermented_Cocoa' 'Whole_Beans_Cocoa']\n"
          ],
          "name": "stdout"
        }
      ]
    },
    {
      "cell_type": "code",
      "metadata": {
        "id": "g8vtraLaQsey",
        "colab_type": "code",
        "colab": {}
      },
      "source": [
        "np_image_list = np.array(image_list, dtype=np.float16) / 225.0"
      ],
      "execution_count": 0,
      "outputs": []
    },
    {
      "cell_type": "code",
      "metadata": {
        "id": "ZJ8fadssQtjo",
        "colab_type": "code",
        "outputId": "20a51518-35c2-4395-8841-2ba0a4119018",
        "colab": {
          "base_uri": "https://localhost:8080/",
          "height": 34
        }
      },
      "source": [
        "print(\"[INFO] Spliting data to train, test\")\n",
        "x_train, x_test, y_train, y_test = train_test_split(np_image_list, image_labels, test_size=0.2, random_state = 42) "
      ],
      "execution_count": 0,
      "outputs": [
        {
          "output_type": "stream",
          "text": [
            "[INFO] Spliting data to train, test\n"
          ],
          "name": "stdout"
        }
      ]
    },
    {
      "cell_type": "code",
      "metadata": {
        "id": "U93bPMiLQvb2",
        "colab_type": "code",
        "colab": {}
      },
      "source": [
        "aug = ImageDataGenerator(\n",
        "    rotation_range=25, width_shift_range=0.1,\n",
        "    height_shift_range=0.1, shear_range=0.2, \n",
        "    zoom_range=0.2,horizontal_flip=True, \n",
        "    fill_mode=\"nearest\")"
      ],
      "execution_count": 0,
      "outputs": []
    },
    {
      "cell_type": "code",
      "metadata": {
        "id": "SDkOPj9vZSOC",
        "colab_type": "code",
        "outputId": "fcf928f0-0300-48de-bd16-d0e97ca21e43",
        "colab": {
          "base_uri": "https://localhost:8080/",
          "height": 1000
        }
      },
      "source": [
        "model = applications.Xception(weights = \"imagenet\", include_top = False, input_shape = (height, width, 3))\n",
        "\n",
        "\n",
        "\n",
        "model.summary()"
      ],
      "execution_count": 0,
      "outputs": [
        {
          "output_type": "stream",
          "text": [
            "WARNING:tensorflow:From /usr/local/lib/python3.6/dist-packages/keras/backend/tensorflow_backend.py:66: The name tf.get_default_graph is deprecated. Please use tf.compat.v1.get_default_graph instead.\n",
            "\n",
            "WARNING:tensorflow:From /usr/local/lib/python3.6/dist-packages/keras/backend/tensorflow_backend.py:541: The name tf.placeholder is deprecated. Please use tf.compat.v1.placeholder instead.\n",
            "\n",
            "WARNING:tensorflow:From /usr/local/lib/python3.6/dist-packages/keras/backend/tensorflow_backend.py:4432: The name tf.random_uniform is deprecated. Please use tf.random.uniform instead.\n",
            "\n",
            "WARNING:tensorflow:From /usr/local/lib/python3.6/dist-packages/keras/backend/tensorflow_backend.py:190: The name tf.get_default_session is deprecated. Please use tf.compat.v1.get_default_session instead.\n",
            "\n",
            "WARNING:tensorflow:From /usr/local/lib/python3.6/dist-packages/keras/backend/tensorflow_backend.py:197: The name tf.ConfigProto is deprecated. Please use tf.compat.v1.ConfigProto instead.\n",
            "\n",
            "WARNING:tensorflow:From /usr/local/lib/python3.6/dist-packages/keras/backend/tensorflow_backend.py:203: The name tf.Session is deprecated. Please use tf.compat.v1.Session instead.\n",
            "\n",
            "WARNING:tensorflow:From /usr/local/lib/python3.6/dist-packages/keras/backend/tensorflow_backend.py:207: The name tf.global_variables is deprecated. Please use tf.compat.v1.global_variables instead.\n",
            "\n",
            "WARNING:tensorflow:From /usr/local/lib/python3.6/dist-packages/keras/backend/tensorflow_backend.py:216: The name tf.is_variable_initialized is deprecated. Please use tf.compat.v1.is_variable_initialized instead.\n",
            "\n",
            "WARNING:tensorflow:From /usr/local/lib/python3.6/dist-packages/keras/backend/tensorflow_backend.py:223: The name tf.variables_initializer is deprecated. Please use tf.compat.v1.variables_initializer instead.\n",
            "\n",
            "WARNING:tensorflow:From /usr/local/lib/python3.6/dist-packages/keras/backend/tensorflow_backend.py:2041: The name tf.nn.fused_batch_norm is deprecated. Please use tf.compat.v1.nn.fused_batch_norm instead.\n",
            "\n",
            "WARNING:tensorflow:From /usr/local/lib/python3.6/dist-packages/keras/backend/tensorflow_backend.py:148: The name tf.placeholder_with_default is deprecated. Please use tf.compat.v1.placeholder_with_default instead.\n",
            "\n",
            "WARNING:tensorflow:From /usr/local/lib/python3.6/dist-packages/keras/backend/tensorflow_backend.py:4267: The name tf.nn.max_pool is deprecated. Please use tf.nn.max_pool2d instead.\n",
            "\n",
            "Downloading data from https://github.com/fchollet/deep-learning-models/releases/download/v0.4/xception_weights_tf_dim_ordering_tf_kernels_notop.h5\n",
            "83689472/83683744 [==============================] - 3s 0us/step\n",
            "Model: \"xception\"\n",
            "__________________________________________________________________________________________________\n",
            "Layer (type)                    Output Shape         Param #     Connected to                     \n",
            "==================================================================================================\n",
            "input_1 (InputLayer)            (None, 299, 299, 3)  0                                            \n",
            "__________________________________________________________________________________________________\n",
            "block1_conv1 (Conv2D)           (None, 149, 149, 32) 864         input_1[0][0]                    \n",
            "__________________________________________________________________________________________________\n",
            "block1_conv1_bn (BatchNormaliza (None, 149, 149, 32) 128         block1_conv1[0][0]               \n",
            "__________________________________________________________________________________________________\n",
            "block1_conv1_act (Activation)   (None, 149, 149, 32) 0           block1_conv1_bn[0][0]            \n",
            "__________________________________________________________________________________________________\n",
            "block1_conv2 (Conv2D)           (None, 147, 147, 64) 18432       block1_conv1_act[0][0]           \n",
            "__________________________________________________________________________________________________\n",
            "block1_conv2_bn (BatchNormaliza (None, 147, 147, 64) 256         block1_conv2[0][0]               \n",
            "__________________________________________________________________________________________________\n",
            "block1_conv2_act (Activation)   (None, 147, 147, 64) 0           block1_conv2_bn[0][0]            \n",
            "__________________________________________________________________________________________________\n",
            "block2_sepconv1 (SeparableConv2 (None, 147, 147, 128 8768        block1_conv2_act[0][0]           \n",
            "__________________________________________________________________________________________________\n",
            "block2_sepconv1_bn (BatchNormal (None, 147, 147, 128 512         block2_sepconv1[0][0]            \n",
            "__________________________________________________________________________________________________\n",
            "block2_sepconv2_act (Activation (None, 147, 147, 128 0           block2_sepconv1_bn[0][0]         \n",
            "__________________________________________________________________________________________________\n",
            "block2_sepconv2 (SeparableConv2 (None, 147, 147, 128 17536       block2_sepconv2_act[0][0]        \n",
            "__________________________________________________________________________________________________\n",
            "block2_sepconv2_bn (BatchNormal (None, 147, 147, 128 512         block2_sepconv2[0][0]            \n",
            "__________________________________________________________________________________________________\n",
            "conv2d_1 (Conv2D)               (None, 74, 74, 128)  8192        block1_conv2_act[0][0]           \n",
            "__________________________________________________________________________________________________\n",
            "block2_pool (MaxPooling2D)      (None, 74, 74, 128)  0           block2_sepconv2_bn[0][0]         \n",
            "__________________________________________________________________________________________________\n",
            "batch_normalization_1 (BatchNor (None, 74, 74, 128)  512         conv2d_1[0][0]                   \n",
            "__________________________________________________________________________________________________\n",
            "add_1 (Add)                     (None, 74, 74, 128)  0           block2_pool[0][0]                \n",
            "                                                                 batch_normalization_1[0][0]      \n",
            "__________________________________________________________________________________________________\n",
            "block3_sepconv1_act (Activation (None, 74, 74, 128)  0           add_1[0][0]                      \n",
            "__________________________________________________________________________________________________\n",
            "block3_sepconv1 (SeparableConv2 (None, 74, 74, 256)  33920       block3_sepconv1_act[0][0]        \n",
            "__________________________________________________________________________________________________\n",
            "block3_sepconv1_bn (BatchNormal (None, 74, 74, 256)  1024        block3_sepconv1[0][0]            \n",
            "__________________________________________________________________________________________________\n",
            "block3_sepconv2_act (Activation (None, 74, 74, 256)  0           block3_sepconv1_bn[0][0]         \n",
            "__________________________________________________________________________________________________\n",
            "block3_sepconv2 (SeparableConv2 (None, 74, 74, 256)  67840       block3_sepconv2_act[0][0]        \n",
            "__________________________________________________________________________________________________\n",
            "block3_sepconv2_bn (BatchNormal (None, 74, 74, 256)  1024        block3_sepconv2[0][0]            \n",
            "__________________________________________________________________________________________________\n",
            "conv2d_2 (Conv2D)               (None, 37, 37, 256)  32768       add_1[0][0]                      \n",
            "__________________________________________________________________________________________________\n",
            "block3_pool (MaxPooling2D)      (None, 37, 37, 256)  0           block3_sepconv2_bn[0][0]         \n",
            "__________________________________________________________________________________________________\n",
            "batch_normalization_2 (BatchNor (None, 37, 37, 256)  1024        conv2d_2[0][0]                   \n",
            "__________________________________________________________________________________________________\n",
            "add_2 (Add)                     (None, 37, 37, 256)  0           block3_pool[0][0]                \n",
            "                                                                 batch_normalization_2[0][0]      \n",
            "__________________________________________________________________________________________________\n",
            "block4_sepconv1_act (Activation (None, 37, 37, 256)  0           add_2[0][0]                      \n",
            "__________________________________________________________________________________________________\n",
            "block4_sepconv1 (SeparableConv2 (None, 37, 37, 728)  188672      block4_sepconv1_act[0][0]        \n",
            "__________________________________________________________________________________________________\n",
            "block4_sepconv1_bn (BatchNormal (None, 37, 37, 728)  2912        block4_sepconv1[0][0]            \n",
            "__________________________________________________________________________________________________\n",
            "block4_sepconv2_act (Activation (None, 37, 37, 728)  0           block4_sepconv1_bn[0][0]         \n",
            "__________________________________________________________________________________________________\n",
            "block4_sepconv2 (SeparableConv2 (None, 37, 37, 728)  536536      block4_sepconv2_act[0][0]        \n",
            "__________________________________________________________________________________________________\n",
            "block4_sepconv2_bn (BatchNormal (None, 37, 37, 728)  2912        block4_sepconv2[0][0]            \n",
            "__________________________________________________________________________________________________\n",
            "conv2d_3 (Conv2D)               (None, 19, 19, 728)  186368      add_2[0][0]                      \n",
            "__________________________________________________________________________________________________\n",
            "block4_pool (MaxPooling2D)      (None, 19, 19, 728)  0           block4_sepconv2_bn[0][0]         \n",
            "__________________________________________________________________________________________________\n",
            "batch_normalization_3 (BatchNor (None, 19, 19, 728)  2912        conv2d_3[0][0]                   \n",
            "__________________________________________________________________________________________________\n",
            "add_3 (Add)                     (None, 19, 19, 728)  0           block4_pool[0][0]                \n",
            "                                                                 batch_normalization_3[0][0]      \n",
            "__________________________________________________________________________________________________\n",
            "block5_sepconv1_act (Activation (None, 19, 19, 728)  0           add_3[0][0]                      \n",
            "__________________________________________________________________________________________________\n",
            "block5_sepconv1 (SeparableConv2 (None, 19, 19, 728)  536536      block5_sepconv1_act[0][0]        \n",
            "__________________________________________________________________________________________________\n",
            "block5_sepconv1_bn (BatchNormal (None, 19, 19, 728)  2912        block5_sepconv1[0][0]            \n",
            "__________________________________________________________________________________________________\n",
            "block5_sepconv2_act (Activation (None, 19, 19, 728)  0           block5_sepconv1_bn[0][0]         \n",
            "__________________________________________________________________________________________________\n",
            "block5_sepconv2 (SeparableConv2 (None, 19, 19, 728)  536536      block5_sepconv2_act[0][0]        \n",
            "__________________________________________________________________________________________________\n",
            "block5_sepconv2_bn (BatchNormal (None, 19, 19, 728)  2912        block5_sepconv2[0][0]            \n",
            "__________________________________________________________________________________________________\n",
            "block5_sepconv3_act (Activation (None, 19, 19, 728)  0           block5_sepconv2_bn[0][0]         \n",
            "__________________________________________________________________________________________________\n",
            "block5_sepconv3 (SeparableConv2 (None, 19, 19, 728)  536536      block5_sepconv3_act[0][0]        \n",
            "__________________________________________________________________________________________________\n",
            "block5_sepconv3_bn (BatchNormal (None, 19, 19, 728)  2912        block5_sepconv3[0][0]            \n",
            "__________________________________________________________________________________________________\n",
            "add_4 (Add)                     (None, 19, 19, 728)  0           block5_sepconv3_bn[0][0]         \n",
            "                                                                 add_3[0][0]                      \n",
            "__________________________________________________________________________________________________\n",
            "block6_sepconv1_act (Activation (None, 19, 19, 728)  0           add_4[0][0]                      \n",
            "__________________________________________________________________________________________________\n",
            "block6_sepconv1 (SeparableConv2 (None, 19, 19, 728)  536536      block6_sepconv1_act[0][0]        \n",
            "__________________________________________________________________________________________________\n",
            "block6_sepconv1_bn (BatchNormal (None, 19, 19, 728)  2912        block6_sepconv1[0][0]            \n",
            "__________________________________________________________________________________________________\n",
            "block6_sepconv2_act (Activation (None, 19, 19, 728)  0           block6_sepconv1_bn[0][0]         \n",
            "__________________________________________________________________________________________________\n",
            "block6_sepconv2 (SeparableConv2 (None, 19, 19, 728)  536536      block6_sepconv2_act[0][0]        \n",
            "__________________________________________________________________________________________________\n",
            "block6_sepconv2_bn (BatchNormal (None, 19, 19, 728)  2912        block6_sepconv2[0][0]            \n",
            "__________________________________________________________________________________________________\n",
            "block6_sepconv3_act (Activation (None, 19, 19, 728)  0           block6_sepconv2_bn[0][0]         \n",
            "__________________________________________________________________________________________________\n",
            "block6_sepconv3 (SeparableConv2 (None, 19, 19, 728)  536536      block6_sepconv3_act[0][0]        \n",
            "__________________________________________________________________________________________________\n",
            "block6_sepconv3_bn (BatchNormal (None, 19, 19, 728)  2912        block6_sepconv3[0][0]            \n",
            "__________________________________________________________________________________________________\n",
            "add_5 (Add)                     (None, 19, 19, 728)  0           block6_sepconv3_bn[0][0]         \n",
            "                                                                 add_4[0][0]                      \n",
            "__________________________________________________________________________________________________\n",
            "block7_sepconv1_act (Activation (None, 19, 19, 728)  0           add_5[0][0]                      \n",
            "__________________________________________________________________________________________________\n",
            "block7_sepconv1 (SeparableConv2 (None, 19, 19, 728)  536536      block7_sepconv1_act[0][0]        \n",
            "__________________________________________________________________________________________________\n",
            "block7_sepconv1_bn (BatchNormal (None, 19, 19, 728)  2912        block7_sepconv1[0][0]            \n",
            "__________________________________________________________________________________________________\n",
            "block7_sepconv2_act (Activation (None, 19, 19, 728)  0           block7_sepconv1_bn[0][0]         \n",
            "__________________________________________________________________________________________________\n",
            "block7_sepconv2 (SeparableConv2 (None, 19, 19, 728)  536536      block7_sepconv2_act[0][0]        \n",
            "__________________________________________________________________________________________________\n",
            "block7_sepconv2_bn (BatchNormal (None, 19, 19, 728)  2912        block7_sepconv2[0][0]            \n",
            "__________________________________________________________________________________________________\n",
            "block7_sepconv3_act (Activation (None, 19, 19, 728)  0           block7_sepconv2_bn[0][0]         \n",
            "__________________________________________________________________________________________________\n",
            "block7_sepconv3 (SeparableConv2 (None, 19, 19, 728)  536536      block7_sepconv3_act[0][0]        \n",
            "__________________________________________________________________________________________________\n",
            "block7_sepconv3_bn (BatchNormal (None, 19, 19, 728)  2912        block7_sepconv3[0][0]            \n",
            "__________________________________________________________________________________________________\n",
            "add_6 (Add)                     (None, 19, 19, 728)  0           block7_sepconv3_bn[0][0]         \n",
            "                                                                 add_5[0][0]                      \n",
            "__________________________________________________________________________________________________\n",
            "block8_sepconv1_act (Activation (None, 19, 19, 728)  0           add_6[0][0]                      \n",
            "__________________________________________________________________________________________________\n",
            "block8_sepconv1 (SeparableConv2 (None, 19, 19, 728)  536536      block8_sepconv1_act[0][0]        \n",
            "__________________________________________________________________________________________________\n",
            "block8_sepconv1_bn (BatchNormal (None, 19, 19, 728)  2912        block8_sepconv1[0][0]            \n",
            "__________________________________________________________________________________________________\n",
            "block8_sepconv2_act (Activation (None, 19, 19, 728)  0           block8_sepconv1_bn[0][0]         \n",
            "__________________________________________________________________________________________________\n",
            "block8_sepconv2 (SeparableConv2 (None, 19, 19, 728)  536536      block8_sepconv2_act[0][0]        \n",
            "__________________________________________________________________________________________________\n",
            "block8_sepconv2_bn (BatchNormal (None, 19, 19, 728)  2912        block8_sepconv2[0][0]            \n",
            "__________________________________________________________________________________________________\n",
            "block8_sepconv3_act (Activation (None, 19, 19, 728)  0           block8_sepconv2_bn[0][0]         \n",
            "__________________________________________________________________________________________________\n",
            "block8_sepconv3 (SeparableConv2 (None, 19, 19, 728)  536536      block8_sepconv3_act[0][0]        \n",
            "__________________________________________________________________________________________________\n",
            "block8_sepconv3_bn (BatchNormal (None, 19, 19, 728)  2912        block8_sepconv3[0][0]            \n",
            "__________________________________________________________________________________________________\n",
            "add_7 (Add)                     (None, 19, 19, 728)  0           block8_sepconv3_bn[0][0]         \n",
            "                                                                 add_6[0][0]                      \n",
            "__________________________________________________________________________________________________\n",
            "block9_sepconv1_act (Activation (None, 19, 19, 728)  0           add_7[0][0]                      \n",
            "__________________________________________________________________________________________________\n",
            "block9_sepconv1 (SeparableConv2 (None, 19, 19, 728)  536536      block9_sepconv1_act[0][0]        \n",
            "__________________________________________________________________________________________________\n",
            "block9_sepconv1_bn (BatchNormal (None, 19, 19, 728)  2912        block9_sepconv1[0][0]            \n",
            "__________________________________________________________________________________________________\n",
            "block9_sepconv2_act (Activation (None, 19, 19, 728)  0           block9_sepconv1_bn[0][0]         \n",
            "__________________________________________________________________________________________________\n",
            "block9_sepconv2 (SeparableConv2 (None, 19, 19, 728)  536536      block9_sepconv2_act[0][0]        \n",
            "__________________________________________________________________________________________________\n",
            "block9_sepconv2_bn (BatchNormal (None, 19, 19, 728)  2912        block9_sepconv2[0][0]            \n",
            "__________________________________________________________________________________________________\n",
            "block9_sepconv3_act (Activation (None, 19, 19, 728)  0           block9_sepconv2_bn[0][0]         \n",
            "__________________________________________________________________________________________________\n",
            "block9_sepconv3 (SeparableConv2 (None, 19, 19, 728)  536536      block9_sepconv3_act[0][0]        \n",
            "__________________________________________________________________________________________________\n",
            "block9_sepconv3_bn (BatchNormal (None, 19, 19, 728)  2912        block9_sepconv3[0][0]            \n",
            "__________________________________________________________________________________________________\n",
            "add_8 (Add)                     (None, 19, 19, 728)  0           block9_sepconv3_bn[0][0]         \n",
            "                                                                 add_7[0][0]                      \n",
            "__________________________________________________________________________________________________\n",
            "block10_sepconv1_act (Activatio (None, 19, 19, 728)  0           add_8[0][0]                      \n",
            "__________________________________________________________________________________________________\n",
            "block10_sepconv1 (SeparableConv (None, 19, 19, 728)  536536      block10_sepconv1_act[0][0]       \n",
            "__________________________________________________________________________________________________\n",
            "block10_sepconv1_bn (BatchNorma (None, 19, 19, 728)  2912        block10_sepconv1[0][0]           \n",
            "__________________________________________________________________________________________________\n",
            "block10_sepconv2_act (Activatio (None, 19, 19, 728)  0           block10_sepconv1_bn[0][0]        \n",
            "__________________________________________________________________________________________________\n",
            "block10_sepconv2 (SeparableConv (None, 19, 19, 728)  536536      block10_sepconv2_act[0][0]       \n",
            "__________________________________________________________________________________________________\n",
            "block10_sepconv2_bn (BatchNorma (None, 19, 19, 728)  2912        block10_sepconv2[0][0]           \n",
            "__________________________________________________________________________________________________\n",
            "block10_sepconv3_act (Activatio (None, 19, 19, 728)  0           block10_sepconv2_bn[0][0]        \n",
            "__________________________________________________________________________________________________\n",
            "block10_sepconv3 (SeparableConv (None, 19, 19, 728)  536536      block10_sepconv3_act[0][0]       \n",
            "__________________________________________________________________________________________________\n",
            "block10_sepconv3_bn (BatchNorma (None, 19, 19, 728)  2912        block10_sepconv3[0][0]           \n",
            "__________________________________________________________________________________________________\n",
            "add_9 (Add)                     (None, 19, 19, 728)  0           block10_sepconv3_bn[0][0]        \n",
            "                                                                 add_8[0][0]                      \n",
            "__________________________________________________________________________________________________\n",
            "block11_sepconv1_act (Activatio (None, 19, 19, 728)  0           add_9[0][0]                      \n",
            "__________________________________________________________________________________________________\n",
            "block11_sepconv1 (SeparableConv (None, 19, 19, 728)  536536      block11_sepconv1_act[0][0]       \n",
            "__________________________________________________________________________________________________\n",
            "block11_sepconv1_bn (BatchNorma (None, 19, 19, 728)  2912        block11_sepconv1[0][0]           \n",
            "__________________________________________________________________________________________________\n",
            "block11_sepconv2_act (Activatio (None, 19, 19, 728)  0           block11_sepconv1_bn[0][0]        \n",
            "__________________________________________________________________________________________________\n",
            "block11_sepconv2 (SeparableConv (None, 19, 19, 728)  536536      block11_sepconv2_act[0][0]       \n",
            "__________________________________________________________________________________________________\n",
            "block11_sepconv2_bn (BatchNorma (None, 19, 19, 728)  2912        block11_sepconv2[0][0]           \n",
            "__________________________________________________________________________________________________\n",
            "block11_sepconv3_act (Activatio (None, 19, 19, 728)  0           block11_sepconv2_bn[0][0]        \n",
            "__________________________________________________________________________________________________\n",
            "block11_sepconv3 (SeparableConv (None, 19, 19, 728)  536536      block11_sepconv3_act[0][0]       \n",
            "__________________________________________________________________________________________________\n",
            "block11_sepconv3_bn (BatchNorma (None, 19, 19, 728)  2912        block11_sepconv3[0][0]           \n",
            "__________________________________________________________________________________________________\n",
            "add_10 (Add)                    (None, 19, 19, 728)  0           block11_sepconv3_bn[0][0]        \n",
            "                                                                 add_9[0][0]                      \n",
            "__________________________________________________________________________________________________\n",
            "block12_sepconv1_act (Activatio (None, 19, 19, 728)  0           add_10[0][0]                     \n",
            "__________________________________________________________________________________________________\n",
            "block12_sepconv1 (SeparableConv (None, 19, 19, 728)  536536      block12_sepconv1_act[0][0]       \n",
            "__________________________________________________________________________________________________\n",
            "block12_sepconv1_bn (BatchNorma (None, 19, 19, 728)  2912        block12_sepconv1[0][0]           \n",
            "__________________________________________________________________________________________________\n",
            "block12_sepconv2_act (Activatio (None, 19, 19, 728)  0           block12_sepconv1_bn[0][0]        \n",
            "__________________________________________________________________________________________________\n",
            "block12_sepconv2 (SeparableConv (None, 19, 19, 728)  536536      block12_sepconv2_act[0][0]       \n",
            "__________________________________________________________________________________________________\n",
            "block12_sepconv2_bn (BatchNorma (None, 19, 19, 728)  2912        block12_sepconv2[0][0]           \n",
            "__________________________________________________________________________________________________\n",
            "block12_sepconv3_act (Activatio (None, 19, 19, 728)  0           block12_sepconv2_bn[0][0]        \n",
            "__________________________________________________________________________________________________\n",
            "block12_sepconv3 (SeparableConv (None, 19, 19, 728)  536536      block12_sepconv3_act[0][0]       \n",
            "__________________________________________________________________________________________________\n",
            "block12_sepconv3_bn (BatchNorma (None, 19, 19, 728)  2912        block12_sepconv3[0][0]           \n",
            "__________________________________________________________________________________________________\n",
            "add_11 (Add)                    (None, 19, 19, 728)  0           block12_sepconv3_bn[0][0]        \n",
            "                                                                 add_10[0][0]                     \n",
            "__________________________________________________________________________________________________\n",
            "block13_sepconv1_act (Activatio (None, 19, 19, 728)  0           add_11[0][0]                     \n",
            "__________________________________________________________________________________________________\n",
            "block13_sepconv1 (SeparableConv (None, 19, 19, 728)  536536      block13_sepconv1_act[0][0]       \n",
            "__________________________________________________________________________________________________\n",
            "block13_sepconv1_bn (BatchNorma (None, 19, 19, 728)  2912        block13_sepconv1[0][0]           \n",
            "__________________________________________________________________________________________________\n",
            "block13_sepconv2_act (Activatio (None, 19, 19, 728)  0           block13_sepconv1_bn[0][0]        \n",
            "__________________________________________________________________________________________________\n",
            "block13_sepconv2 (SeparableConv (None, 19, 19, 1024) 752024      block13_sepconv2_act[0][0]       \n",
            "__________________________________________________________________________________________________\n",
            "block13_sepconv2_bn (BatchNorma (None, 19, 19, 1024) 4096        block13_sepconv2[0][0]           \n",
            "__________________________________________________________________________________________________\n",
            "conv2d_4 (Conv2D)               (None, 10, 10, 1024) 745472      add_11[0][0]                     \n",
            "__________________________________________________________________________________________________\n",
            "block13_pool (MaxPooling2D)     (None, 10, 10, 1024) 0           block13_sepconv2_bn[0][0]        \n",
            "__________________________________________________________________________________________________\n",
            "batch_normalization_4 (BatchNor (None, 10, 10, 1024) 4096        conv2d_4[0][0]                   \n",
            "__________________________________________________________________________________________________\n",
            "add_12 (Add)                    (None, 10, 10, 1024) 0           block13_pool[0][0]               \n",
            "                                                                 batch_normalization_4[0][0]      \n",
            "__________________________________________________________________________________________________\n",
            "block14_sepconv1 (SeparableConv (None, 10, 10, 1536) 1582080     add_12[0][0]                     \n",
            "__________________________________________________________________________________________________\n",
            "block14_sepconv1_bn (BatchNorma (None, 10, 10, 1536) 6144        block14_sepconv1[0][0]           \n",
            "__________________________________________________________________________________________________\n",
            "block14_sepconv1_act (Activatio (None, 10, 10, 1536) 0           block14_sepconv1_bn[0][0]        \n",
            "__________________________________________________________________________________________________\n",
            "block14_sepconv2 (SeparableConv (None, 10, 10, 2048) 3159552     block14_sepconv1_act[0][0]       \n",
            "__________________________________________________________________________________________________\n",
            "block14_sepconv2_bn (BatchNorma (None, 10, 10, 2048) 8192        block14_sepconv2[0][0]           \n",
            "__________________________________________________________________________________________________\n",
            "block14_sepconv2_act (Activatio (None, 10, 10, 2048) 0           block14_sepconv2_bn[0][0]        \n",
            "==================================================================================================\n",
            "Total params: 20,861,480\n",
            "Trainable params: 20,806,952\n",
            "Non-trainable params: 54,528\n",
            "__________________________________________________________________________________________________\n"
          ],
          "name": "stdout"
        }
      ]
    },
    {
      "cell_type": "code",
      "metadata": {
        "id": "Darp_xJua6Wr",
        "colab_type": "code",
        "colab": {}
      },
      "source": [
        "custom_layer = model.output\n",
        "custom_layer = GlobalAveragePooling2D()(custom_layer)\n",
        "custom_layer = Dense(256, activation=\"relu\")(custom_layer)\n",
        "custom_layer = Dropout(0.5)(custom_layer)\n",
        "custom_layer = Dense(256, activation=\"relu\")(custom_layer)\n",
        "output_layer = Dense(6, activation=\"softmax\")(custom_layer)\n",
        "res_model = Model(input = model.input, output = output_layer)\n",
        "\n",
        "\n",
        "res_model.summary()"
      ],
      "execution_count": 0,
      "outputs": []
    },
    {
      "cell_type": "code",
      "metadata": {
        "id": "oDWRJE5AdB2h",
        "colab_type": "code",
        "outputId": "a7448b1c-cec7-4369-d532-da0f866806b6",
        "colab": {
          "base_uri": "https://localhost:8080/",
          "height": 1000
        }
      },
      "source": [
        "# for i in model.layers[0: 26]:\n",
        "#     i.trainable = False\n",
        "\n",
        "#checkpoint = ModelCheckpoint(filepath=\"/content/weights/xception_new.hdf5\", monitor='val_acc', verbose=1, save_best_only=True, save_weights_only=False, mode='auto', period=1)\n",
        "#early = EarlyStopping(monitor='val_acc', min_delta=0, patience=10, verbose=1, mode='auto')\n",
        "\n",
        "\n",
        "res_model.compile(loss = \"categorical_crossentropy\", optimizer = 'Adam', metrics = ['accuracy'])\n",
        "History = res_model.fit(x_train, y_train, epochs = 100, shuffle=True, validation_data=(x_test, y_test), verbose=1,)"
      ],
      "execution_count": 0,
      "outputs": [
        {
          "output_type": "stream",
          "text": [
            "WARNING:tensorflow:From /usr/local/lib/python3.6/dist-packages/keras/backend/tensorflow_backend.py:3733: calling dropout (from tensorflow.python.ops.nn_ops) with keep_prob is deprecated and will be removed in a future version.\n",
            "Instructions for updating:\n",
            "Please use `rate` instead of `keep_prob`. Rate should be set to `rate = 1 - keep_prob`.\n",
            "WARNING:tensorflow:From /usr/local/lib/python3.6/dist-packages/keras/optimizers.py:793: The name tf.train.Optimizer is deprecated. Please use tf.compat.v1.train.Optimizer instead.\n",
            "\n",
            "WARNING:tensorflow:From /usr/local/lib/python3.6/dist-packages/keras/backend/tensorflow_backend.py:3576: The name tf.log is deprecated. Please use tf.math.log instead.\n",
            "\n",
            "WARNING:tensorflow:From /tensorflow-1.15.0/python3.6/tensorflow_core/python/ops/math_grad.py:1424: where (from tensorflow.python.ops.array_ops) is deprecated and will be removed in a future version.\n",
            "Instructions for updating:\n",
            "Use tf.where in 2.0, which has the same broadcast rule as np.where\n"
          ],
          "name": "stdout"
        },
        {
          "output_type": "stream",
          "text": [
            "/usr/local/lib/python3.6/dist-packages/ipykernel_launcher.py:7: UserWarning: Update your `Model` call to the Keras 2 API: `Model(inputs=Tensor(\"in..., outputs=Tensor(\"de...)`\n",
            "  import sys\n"
          ],
          "name": "stderr"
        },
        {
          "output_type": "stream",
          "text": [
            "WARNING:tensorflow:From /usr/local/lib/python3.6/dist-packages/keras/backend/tensorflow_backend.py:1033: The name tf.assign_add is deprecated. Please use tf.compat.v1.assign_add instead.\n",
            "\n",
            "WARNING:tensorflow:From /usr/local/lib/python3.6/dist-packages/keras/backend/tensorflow_backend.py:1020: The name tf.assign is deprecated. Please use tf.compat.v1.assign instead.\n",
            "\n",
            "Train on 491 samples, validate on 123 samples\n",
            "Epoch 1/100\n",
            "491/491 [==============================] - 28s 57ms/step - loss: 0.9689 - acc: 0.6538 - val_loss: 2.7602 - val_acc: 0.6016\n",
            "Epoch 2/100\n",
            "491/491 [==============================] - 13s 26ms/step - loss: 0.5513 - acc: 0.8147 - val_loss: 3.1552 - val_acc: 0.6260\n",
            "Epoch 3/100\n",
            "491/491 [==============================] - 13s 26ms/step - loss: 0.4510 - acc: 0.8534 - val_loss: 2.9136 - val_acc: 0.6260\n",
            "Epoch 4/100\n",
            "491/491 [==============================] - 13s 26ms/step - loss: 0.4374 - acc: 0.8758 - val_loss: 6.8844 - val_acc: 0.3333\n",
            "Epoch 5/100\n",
            "491/491 [==============================] - 13s 26ms/step - loss: 0.3461 - acc: 0.8859 - val_loss: 4.5155 - val_acc: 0.6260\n",
            "Epoch 6/100\n",
            "491/491 [==============================] - 13s 26ms/step - loss: 0.3173 - acc: 0.9308 - val_loss: 5.4100 - val_acc: 0.6179\n",
            "Epoch 7/100\n",
            "491/491 [==============================] - 13s 26ms/step - loss: 0.2781 - acc: 0.9165 - val_loss: 8.3795 - val_acc: 0.4309\n",
            "Epoch 8/100\n",
            "491/491 [==============================] - 13s 26ms/step - loss: 0.1696 - acc: 0.9409 - val_loss: 3.0502 - val_acc: 0.6585\n",
            "Epoch 9/100\n",
            "491/491 [==============================] - 13s 26ms/step - loss: 0.0766 - acc: 0.9674 - val_loss: 2.2600 - val_acc: 0.6911\n",
            "Epoch 10/100\n",
            "491/491 [==============================] - 13s 26ms/step - loss: 0.3604 - acc: 0.8859 - val_loss: 7.6640 - val_acc: 0.4959\n",
            "Epoch 11/100\n",
            "491/491 [==============================] - 13s 26ms/step - loss: 0.4789 - acc: 0.8391 - val_loss: 9.9771 - val_acc: 0.3415\n",
            "Epoch 12/100\n",
            "491/491 [==============================] - 13s 26ms/step - loss: 0.2744 - acc: 0.9206 - val_loss: 4.6595 - val_acc: 0.6098\n",
            "Epoch 13/100\n",
            "491/491 [==============================] - 13s 26ms/step - loss: 0.2288 - acc: 0.9246 - val_loss: 2.5855 - val_acc: 0.6992\n",
            "Epoch 14/100\n",
            "491/491 [==============================] - 13s 26ms/step - loss: 0.1679 - acc: 0.9511 - val_loss: 2.5640 - val_acc: 0.6829\n",
            "Epoch 15/100\n",
            "491/491 [==============================] - 13s 26ms/step - loss: 0.2190 - acc: 0.9674 - val_loss: 5.5579 - val_acc: 0.6016\n",
            "Epoch 16/100\n",
            "491/491 [==============================] - 13s 26ms/step - loss: 0.1310 - acc: 0.9572 - val_loss: 3.4461 - val_acc: 0.6179\n",
            "Epoch 17/100\n",
            "491/491 [==============================] - 13s 26ms/step - loss: 0.3218 - acc: 0.9246 - val_loss: 10.4928 - val_acc: 0.3415\n",
            "Epoch 18/100\n",
            "491/491 [==============================] - 13s 26ms/step - loss: 0.2108 - acc: 0.9409 - val_loss: 7.0644 - val_acc: 0.4472\n",
            "Epoch 19/100\n",
            "491/491 [==============================] - 13s 26ms/step - loss: 0.2138 - acc: 0.9409 - val_loss: 5.2951 - val_acc: 0.5285\n",
            "Epoch 20/100\n",
            "491/491 [==============================] - 13s 26ms/step - loss: 0.0907 - acc: 0.9817 - val_loss: 2.0247 - val_acc: 0.7317\n",
            "Epoch 21/100\n",
            "491/491 [==============================] - 13s 26ms/step - loss: 0.0192 - acc: 0.9939 - val_loss: 1.3932 - val_acc: 0.8049\n",
            "Epoch 22/100\n",
            "491/491 [==============================] - 13s 26ms/step - loss: 0.0182 - acc: 0.9939 - val_loss: 0.9925 - val_acc: 0.8699\n",
            "Epoch 23/100\n",
            "491/491 [==============================] - 13s 26ms/step - loss: 0.0977 - acc: 0.9796 - val_loss: 2.2220 - val_acc: 0.6829\n",
            "Epoch 24/100\n",
            "491/491 [==============================] - 13s 26ms/step - loss: 0.0573 - acc: 0.9776 - val_loss: 1.2990 - val_acc: 0.7967\n",
            "Epoch 25/100\n",
            "491/491 [==============================] - 13s 26ms/step - loss: 0.1421 - acc: 0.9613 - val_loss: 5.9846 - val_acc: 0.5366\n",
            "Epoch 26/100\n",
            "491/491 [==============================] - 13s 26ms/step - loss: 0.0946 - acc: 0.9715 - val_loss: 4.6258 - val_acc: 0.6016\n",
            "Epoch 27/100\n",
            "491/491 [==============================] - 13s 26ms/step - loss: 0.1010 - acc: 0.9817 - val_loss: 3.7968 - val_acc: 0.6179\n",
            "Epoch 28/100\n",
            "491/491 [==============================] - 13s 26ms/step - loss: 0.1752 - acc: 0.9511 - val_loss: 2.2924 - val_acc: 0.7236\n",
            "Epoch 29/100\n",
            "491/491 [==============================] - 13s 26ms/step - loss: 0.2038 - acc: 0.9552 - val_loss: 11.3175 - val_acc: 0.2195\n",
            "Epoch 30/100\n",
            "491/491 [==============================] - 13s 26ms/step - loss: 0.3925 - acc: 0.9022 - val_loss: 13.4044 - val_acc: 0.1626\n",
            "Epoch 31/100\n",
            "491/491 [==============================] - 13s 26ms/step - loss: 0.2825 - acc: 0.9267 - val_loss: 8.3667 - val_acc: 0.3496\n",
            "Epoch 32/100\n",
            "491/491 [==============================] - 13s 26ms/step - loss: 0.1862 - acc: 0.9511 - val_loss: 2.5748 - val_acc: 0.6667\n",
            "Epoch 33/100\n",
            "491/491 [==============================] - 13s 26ms/step - loss: 0.1128 - acc: 0.9776 - val_loss: 3.5419 - val_acc: 0.6260\n",
            "Epoch 34/100\n",
            "491/491 [==============================] - 13s 26ms/step - loss: 0.1864 - acc: 0.9511 - val_loss: 10.1565 - val_acc: 0.3089\n",
            "Epoch 35/100\n",
            "491/491 [==============================] - 13s 26ms/step - loss: 0.0931 - acc: 0.9715 - val_loss: 4.7984 - val_acc: 0.5610\n",
            "Epoch 36/100\n",
            "491/491 [==============================] - 13s 26ms/step - loss: 0.0325 - acc: 0.9898 - val_loss: 1.7090 - val_acc: 0.7642\n",
            "Epoch 37/100\n",
            "491/491 [==============================] - 13s 26ms/step - loss: 0.0593 - acc: 0.9878 - val_loss: 3.4673 - val_acc: 0.6585\n",
            "Epoch 38/100\n",
            "491/491 [==============================] - 13s 26ms/step - loss: 0.0979 - acc: 0.9898 - val_loss: 1.1686 - val_acc: 0.8211\n",
            "Epoch 39/100\n",
            "491/491 [==============================] - 13s 26ms/step - loss: 0.1001 - acc: 0.9715 - val_loss: 1.0951 - val_acc: 0.8049\n",
            "Epoch 40/100\n",
            "491/491 [==============================] - 13s 26ms/step - loss: 0.0374 - acc: 0.9857 - val_loss: 1.8592 - val_acc: 0.7154\n",
            "Epoch 41/100\n",
            "491/491 [==============================] - 13s 26ms/step - loss: 0.0338 - acc: 0.9878 - val_loss: 1.2068 - val_acc: 0.7480\n",
            "Epoch 42/100\n",
            "491/491 [==============================] - 13s 26ms/step - loss: 0.0881 - acc: 0.9756 - val_loss: 3.0437 - val_acc: 0.6748\n",
            "Epoch 43/100\n",
            "491/491 [==============================] - 13s 26ms/step - loss: 0.0363 - acc: 0.9919 - val_loss: 1.6396 - val_acc: 0.7154\n",
            "Epoch 44/100\n",
            "491/491 [==============================] - 13s 26ms/step - loss: 0.0667 - acc: 0.9817 - val_loss: 2.0382 - val_acc: 0.7073\n",
            "Epoch 45/100\n",
            "491/491 [==============================] - 13s 26ms/step - loss: 0.0207 - acc: 0.9919 - val_loss: 2.1609 - val_acc: 0.7805\n",
            "Epoch 46/100\n",
            "491/491 [==============================] - 13s 26ms/step - loss: 0.1083 - acc: 0.9756 - val_loss: 1.9226 - val_acc: 0.7236\n",
            "Epoch 47/100\n",
            "491/491 [==============================] - 13s 26ms/step - loss: 0.0741 - acc: 0.9756 - val_loss: 5.6226 - val_acc: 0.5285\n",
            "Epoch 48/100\n",
            "491/491 [==============================] - 13s 26ms/step - loss: 0.0361 - acc: 0.9878 - val_loss: 5.2873 - val_acc: 0.5528\n",
            "Epoch 49/100\n",
            "491/491 [==============================] - 13s 26ms/step - loss: 0.0201 - acc: 0.9959 - val_loss: 1.7857 - val_acc: 0.7561\n",
            "Epoch 50/100\n",
            "491/491 [==============================] - 13s 26ms/step - loss: 0.0266 - acc: 0.9939 - val_loss: 2.7324 - val_acc: 0.6585\n",
            "Epoch 51/100\n",
            "491/491 [==============================] - 13s 26ms/step - loss: 0.0164 - acc: 0.9919 - val_loss: 0.9526 - val_acc: 0.8049\n",
            "Epoch 52/100\n",
            "491/491 [==============================] - 13s 26ms/step - loss: 0.0336 - acc: 0.9898 - val_loss: 4.9756 - val_acc: 0.6016\n",
            "Epoch 53/100\n",
            "491/491 [==============================] - 13s 26ms/step - loss: 0.0224 - acc: 0.9919 - val_loss: 1.3911 - val_acc: 0.7480\n",
            "Epoch 54/100\n",
            "491/491 [==============================] - 13s 26ms/step - loss: 0.0106 - acc: 0.9959 - val_loss: 0.9532 - val_acc: 0.8374\n",
            "Epoch 55/100\n",
            "491/491 [==============================] - 13s 26ms/step - loss: 0.0587 - acc: 0.9796 - val_loss: 2.9543 - val_acc: 0.6423\n",
            "Epoch 56/100\n",
            "491/491 [==============================] - 13s 26ms/step - loss: 0.0775 - acc: 0.9898 - val_loss: 5.4027 - val_acc: 0.4797\n",
            "Epoch 57/100\n",
            "491/491 [==============================] - 13s 26ms/step - loss: 0.1322 - acc: 0.9735 - val_loss: 6.2885 - val_acc: 0.5122\n",
            "Epoch 58/100\n",
            "491/491 [==============================] - 13s 26ms/step - loss: 0.0368 - acc: 0.9959 - val_loss: 6.0768 - val_acc: 0.5610\n",
            "Epoch 59/100\n",
            "491/491 [==============================] - 13s 26ms/step - loss: 0.0457 - acc: 0.9898 - val_loss: 3.6577 - val_acc: 0.6504\n",
            "Epoch 60/100\n",
            "491/491 [==============================] - 13s 26ms/step - loss: 0.0518 - acc: 0.9919 - val_loss: 4.4412 - val_acc: 0.5447\n",
            "Epoch 61/100\n",
            "491/491 [==============================] - 13s 26ms/step - loss: 0.1365 - acc: 0.9776 - val_loss: 0.8278 - val_acc: 0.7886\n",
            "Epoch 62/100\n",
            "491/491 [==============================] - 13s 26ms/step - loss: 0.1992 - acc: 0.9715 - val_loss: 2.6741 - val_acc: 0.6179\n",
            "Epoch 63/100\n",
            "491/491 [==============================] - 13s 26ms/step - loss: 0.2334 - acc: 0.9613 - val_loss: 1.6512 - val_acc: 0.7317\n",
            "Epoch 64/100\n",
            "491/491 [==============================] - 13s 26ms/step - loss: 0.1231 - acc: 0.9654 - val_loss: 1.6031 - val_acc: 0.7154\n",
            "Epoch 65/100\n",
            "491/491 [==============================] - 13s 26ms/step - loss: 0.0532 - acc: 0.9837 - val_loss: 2.4161 - val_acc: 0.6341\n",
            "Epoch 66/100\n",
            "491/491 [==============================] - 13s 26ms/step - loss: 0.0434 - acc: 0.9857 - val_loss: 3.0086 - val_acc: 0.6341\n",
            "Epoch 67/100\n",
            "491/491 [==============================] - 13s 26ms/step - loss: 0.1019 - acc: 0.9756 - val_loss: 0.8433 - val_acc: 0.8455\n",
            "Epoch 68/100\n",
            "491/491 [==============================] - 13s 26ms/step - loss: 0.0526 - acc: 0.9939 - val_loss: 0.7523 - val_acc: 0.8374\n",
            "Epoch 69/100\n",
            "491/491 [==============================] - 13s 26ms/step - loss: 0.1267 - acc: 0.9756 - val_loss: 2.3766 - val_acc: 0.7154\n",
            "Epoch 70/100\n",
            "491/491 [==============================] - 13s 26ms/step - loss: 0.0418 - acc: 0.9898 - val_loss: 0.8991 - val_acc: 0.8130\n",
            "Epoch 71/100\n",
            "491/491 [==============================] - 13s 26ms/step - loss: 0.0557 - acc: 0.9919 - val_loss: 1.1554 - val_acc: 0.7642\n",
            "Epoch 72/100\n",
            "491/491 [==============================] - 13s 26ms/step - loss: 0.0631 - acc: 0.9817 - val_loss: 1.7517 - val_acc: 0.7886\n",
            "Epoch 73/100\n",
            "491/491 [==============================] - 13s 26ms/step - loss: 0.0363 - acc: 0.9878 - val_loss: 0.3179 - val_acc: 0.9106\n",
            "Epoch 74/100\n",
            "491/491 [==============================] - 13s 26ms/step - loss: 0.0286 - acc: 0.9919 - val_loss: 0.5643 - val_acc: 0.8618\n",
            "Epoch 75/100\n",
            "491/491 [==============================] - 13s 26ms/step - loss: 0.0551 - acc: 0.9878 - val_loss: 1.3175 - val_acc: 0.8049\n",
            "Epoch 76/100\n",
            "491/491 [==============================] - 13s 26ms/step - loss: 0.0633 - acc: 0.9857 - val_loss: 1.4838 - val_acc: 0.8049\n",
            "Epoch 77/100\n",
            "491/491 [==============================] - 13s 26ms/step - loss: 0.0668 - acc: 0.9796 - val_loss: 0.8006 - val_acc: 0.8618\n",
            "Epoch 78/100\n",
            "491/491 [==============================] - 13s 26ms/step - loss: 0.0369 - acc: 0.9898 - val_loss: 2.1333 - val_acc: 0.6423\n",
            "Epoch 79/100\n",
            "491/491 [==============================] - 13s 26ms/step - loss: 0.0120 - acc: 0.9980 - val_loss: 1.0875 - val_acc: 0.8130\n",
            "Epoch 80/100\n",
            "491/491 [==============================] - 13s 26ms/step - loss: 0.0065 - acc: 0.9980 - val_loss: 0.5842 - val_acc: 0.9187\n",
            "Epoch 81/100\n",
            "491/491 [==============================] - 13s 26ms/step - loss: 0.0235 - acc: 0.9959 - val_loss: 0.7665 - val_acc: 0.8699\n",
            "Epoch 82/100\n",
            "491/491 [==============================] - 13s 26ms/step - loss: 0.0139 - acc: 0.9959 - val_loss: 0.6594 - val_acc: 0.9106\n",
            "Epoch 83/100\n",
            "491/491 [==============================] - 13s 26ms/step - loss: 0.0129 - acc: 0.9959 - val_loss: 0.6702 - val_acc: 0.9106\n",
            "Epoch 84/100\n",
            "491/491 [==============================] - 13s 26ms/step - loss: 0.0103 - acc: 0.9939 - val_loss: 0.6434 - val_acc: 0.8862\n",
            "Epoch 85/100\n",
            "491/491 [==============================] - 13s 26ms/step - loss: 0.0338 - acc: 0.9898 - val_loss: 2.3067 - val_acc: 0.6179\n",
            "Epoch 86/100\n",
            "491/491 [==============================] - 13s 26ms/step - loss: 0.0191 - acc: 0.9939 - val_loss: 6.0204 - val_acc: 0.5041\n",
            "Epoch 87/100\n",
            "491/491 [==============================] - 13s 26ms/step - loss: 0.0344 - acc: 0.9857 - val_loss: 4.9087 - val_acc: 0.5203\n",
            "Epoch 88/100\n",
            "491/491 [==============================] - 13s 26ms/step - loss: 0.0470 - acc: 0.9919 - val_loss: 3.3566 - val_acc: 0.5935\n",
            "Epoch 89/100\n",
            "491/491 [==============================] - 13s 26ms/step - loss: 0.1637 - acc: 0.9613 - val_loss: 5.9288 - val_acc: 0.4715\n",
            "Epoch 90/100\n",
            "491/491 [==============================] - 13s 26ms/step - loss: 0.0737 - acc: 0.9817 - val_loss: 3.0067 - val_acc: 0.6341\n",
            "Epoch 91/100\n",
            "491/491 [==============================] - 13s 26ms/step - loss: 0.0449 - acc: 0.9878 - val_loss: 1.3908 - val_acc: 0.7967\n",
            "Epoch 92/100\n",
            "491/491 [==============================] - 13s 26ms/step - loss: 0.2172 - acc: 0.9654 - val_loss: 6.9585 - val_acc: 0.4715\n",
            "Epoch 93/100\n",
            "491/491 [==============================] - 13s 26ms/step - loss: 0.0693 - acc: 0.9919 - val_loss: 2.8469 - val_acc: 0.6179\n",
            "Epoch 94/100\n",
            "491/491 [==============================] - 13s 26ms/step - loss: 0.0360 - acc: 0.9878 - val_loss: 4.8698 - val_acc: 0.5610\n",
            "Epoch 95/100\n",
            "491/491 [==============================] - 13s 26ms/step - loss: 0.0247 - acc: 0.9959 - val_loss: 4.3730 - val_acc: 0.5691\n",
            "Epoch 96/100\n",
            "491/491 [==============================] - 13s 26ms/step - loss: 0.0043 - acc: 1.0000 - val_loss: 3.1880 - val_acc: 0.6098\n",
            "Epoch 97/100\n",
            "491/491 [==============================] - 13s 26ms/step - loss: 0.0155 - acc: 0.9959 - val_loss: 1.3397 - val_acc: 0.7724\n",
            "Epoch 98/100\n",
            "491/491 [==============================] - 13s 26ms/step - loss: 0.0757 - acc: 0.9796 - val_loss: 3.1354 - val_acc: 0.5528\n",
            "Epoch 99/100\n",
            "491/491 [==============================] - 13s 26ms/step - loss: 0.0981 - acc: 0.9756 - val_loss: 2.0627 - val_acc: 0.6504\n",
            "Epoch 100/100\n",
            "491/491 [==============================] - 13s 26ms/step - loss: 0.0214 - acc: 0.9939 - val_loss: 1.2595 - val_acc: 0.8211\n"
          ],
          "name": "stdout"
        }
      ]
    },
    {
      "cell_type": "code",
      "metadata": {
        "id": "Y6Q6KWKamiKK",
        "colab_type": "code",
        "outputId": "547f8d5b-c99e-422d-b89f-9adf820446fb",
        "colab": {
          "base_uri": "https://localhost:8080/",
          "height": 545
        }
      },
      "source": [
        "acc = History.history['acc']\n",
        "val_acc = History.history['val_acc']\n",
        "loss = History.history['loss']\n",
        "val_loss = History.history['val_loss']\n",
        "epochs = range(1, len(acc) + 1)\n",
        "#Train and validation accuracy\n",
        "plt.plot(epochs, acc, 'b', label='Training accurarcy')\n",
        "plt.plot(epochs, val_acc, 'r', label='Validation accurarcy')\n",
        "plt.title('Training and Validation accurarcy')\n",
        "plt.legend()\n",
        "\n",
        "plt.figure()\n",
        "#Train and validation loss\n",
        "plt.plot(epochs, loss, 'b', label='Training loss')\n",
        "plt.plot(epochs, val_loss, 'r', label='Validation loss')\n",
        "plt.title('Training and Validation loss')\n",
        "plt.legend()\n",
        "plt.show()"
      ],
      "execution_count": 0,
      "outputs": [
        {
          "output_type": "display_data",
          "data": {
            "image/png": "[encoded data removed]",
            "text/plain": [
              "<Figure size 432x288 with 1 Axes>"
            ]
          },
          "metadata": {
            "tags": []
          }
        },
        {
          "output_type": "display_data",
          "data": {
            "image/png": "[encoded data removed]",
            "text/plain": [
              "<Figure size 432x288 with 1 Axes>"
            ]
          },
          "metadata": {
            "tags": []
          }
        }
      ]
    },
    {
      "cell_type": "code",
      "metadata": {
        "id": "yekjJ_FS3n7u",
        "colab_type": "code",
        "outputId": "2dcbbcfa-7445-4dd6-d788-4c64e0fce1d6",
        "colab": {
          "base_uri": "https://localhost:8080/",
          "height": 68
        }
      },
      "source": [
        "print(\"[INFO] Calculating model accuracy\")\n",
        "scores = res_model.evaluate(x_test, y_test)\n",
        "print(f\"Test Accuracy: {scores[1]*100}\")"
      ],
      "execution_count": 0,
      "outputs": [
        {
          "output_type": "stream",
          "text": [
            "[INFO] Calculating model accuracy\n",
            "123/123 [==============================] - 1s 6ms/step\n",
            "Test Accuracy: 82.11382094437514\n"
          ],
          "name": "stdout"
        }
      ]
    }
  ]
}